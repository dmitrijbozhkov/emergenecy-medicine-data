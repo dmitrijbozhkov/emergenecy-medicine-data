{
 "cells": [
  {
   "cell_type": "markdown",
   "metadata": {},
   "source": [
    "# Retrieving information from [diagnos-online.ru](http://www.diagnos-online.ru/symp.html)"
   ]
  },
  {
   "cell_type": "code",
   "execution_count": 1,
   "metadata": {},
   "outputs": [],
   "source": [
    "from selenium.webdriver import Chrome\n",
    "from rx import Observable\n",
    "from rx.concurrency import ThreadPoolScheduler\n",
    "from threading import current_thread\n",
    "import multiprocessing\n",
    "from re import search, compile\n",
    "import requests\n",
    "from rx.core import Scheduler\n",
    "from bs4 import BeautifulSoup\n",
    "from functools import reduce, partial\n",
    "import sqlite3\n",
    "optimal_thread_count = multiprocessing.cpu_count() + 1"
   ]
  },
  {
   "cell_type": "markdown",
   "metadata": {},
   "source": [
    "## Opening chrome and getting to site"
   ]
  },
  {
   "cell_type": "code",
   "execution_count": 5,
   "metadata": {},
   "outputs": [
    {
     "data": {
      "text/plain": [
       "<selenium.webdriver.chrome.webdriver.WebDriver (session=\"f61617897094c03fba5370da7ef24ab2\")>"
      ]
     },
     "execution_count": 5,
     "metadata": {},
     "output_type": "execute_result"
    }
   ],
   "source": [
    "driver = Chrome()\n",
    "driver"
   ]
  },
  {
   "cell_type": "code",
   "execution_count": 6,
   "metadata": {},
   "outputs": [],
   "source": [
    "driver.get(\"http://www.diagnos-online.ru/symp.html\")"
   ]
  },
  {
   "cell_type": "markdown",
   "metadata": {},
   "source": [
    "## Preparation for scraping"
   ]
  },
  {
   "cell_type": "markdown",
   "metadata": {},
   "source": [
    "### Getting symptom groups"
   ]
  },
  {
   "cell_type": "code",
   "execution_count": 7,
   "metadata": {},
   "outputs": [
    {
     "data": {
      "text/plain": [
       "[<selenium.webdriver.remote.webelement.WebElement (session=\"f61617897094c03fba5370da7ef24ab2\", element=\"0.6674204163755637-1\")>,\n",
       " <selenium.webdriver.remote.webelement.WebElement (session=\"f61617897094c03fba5370da7ef24ab2\", element=\"0.6674204163755637-2\")>,\n",
       " <selenium.webdriver.remote.webelement.WebElement (session=\"f61617897094c03fba5370da7ef24ab2\", element=\"0.6674204163755637-3\")>,\n",
       " <selenium.webdriver.remote.webelement.WebElement (session=\"f61617897094c03fba5370da7ef24ab2\", element=\"0.6674204163755637-4\")>,\n",
       " <selenium.webdriver.remote.webelement.WebElement (session=\"f61617897094c03fba5370da7ef24ab2\", element=\"0.6674204163755637-5\")>,\n",
       " <selenium.webdriver.remote.webelement.WebElement (session=\"f61617897094c03fba5370da7ef24ab2\", element=\"0.6674204163755637-6\")>,\n",
       " <selenium.webdriver.remote.webelement.WebElement (session=\"f61617897094c03fba5370da7ef24ab2\", element=\"0.6674204163755637-7\")>,\n",
       " <selenium.webdriver.remote.webelement.WebElement (session=\"f61617897094c03fba5370da7ef24ab2\", element=\"0.6674204163755637-8\")>,\n",
       " <selenium.webdriver.remote.webelement.WebElement (session=\"f61617897094c03fba5370da7ef24ab2\", element=\"0.6674204163755637-9\")>,\n",
       " <selenium.webdriver.remote.webelement.WebElement (session=\"f61617897094c03fba5370da7ef24ab2\", element=\"0.6674204163755637-10\")>,\n",
       " <selenium.webdriver.remote.webelement.WebElement (session=\"f61617897094c03fba5370da7ef24ab2\", element=\"0.6674204163755637-11\")>,\n",
       " <selenium.webdriver.remote.webelement.WebElement (session=\"f61617897094c03fba5370da7ef24ab2\", element=\"0.6674204163755637-12\")>,\n",
       " <selenium.webdriver.remote.webelement.WebElement (session=\"f61617897094c03fba5370da7ef24ab2\", element=\"0.6674204163755637-13\")>,\n",
       " <selenium.webdriver.remote.webelement.WebElement (session=\"f61617897094c03fba5370da7ef24ab2\", element=\"0.6674204163755637-14\")>,\n",
       " <selenium.webdriver.remote.webelement.WebElement (session=\"f61617897094c03fba5370da7ef24ab2\", element=\"0.6674204163755637-15\")>,\n",
       " <selenium.webdriver.remote.webelement.WebElement (session=\"f61617897094c03fba5370da7ef24ab2\", element=\"0.6674204163755637-16\")>,\n",
       " <selenium.webdriver.remote.webelement.WebElement (session=\"f61617897094c03fba5370da7ef24ab2\", element=\"0.6674204163755637-17\")>,\n",
       " <selenium.webdriver.remote.webelement.WebElement (session=\"f61617897094c03fba5370da7ef24ab2\", element=\"0.6674204163755637-18\")>,\n",
       " <selenium.webdriver.remote.webelement.WebElement (session=\"f61617897094c03fba5370da7ef24ab2\", element=\"0.6674204163755637-19\")>,\n",
       " <selenium.webdriver.remote.webelement.WebElement (session=\"f61617897094c03fba5370da7ef24ab2\", element=\"0.6674204163755637-20\")>,\n",
       " <selenium.webdriver.remote.webelement.WebElement (session=\"f61617897094c03fba5370da7ef24ab2\", element=\"0.6674204163755637-21\")>,\n",
       " <selenium.webdriver.remote.webelement.WebElement (session=\"f61617897094c03fba5370da7ef24ab2\", element=\"0.6674204163755637-22\")>,\n",
       " <selenium.webdriver.remote.webelement.WebElement (session=\"f61617897094c03fba5370da7ef24ab2\", element=\"0.6674204163755637-23\")>,\n",
       " <selenium.webdriver.remote.webelement.WebElement (session=\"f61617897094c03fba5370da7ef24ab2\", element=\"0.6674204163755637-24\")>]"
      ]
     },
     "execution_count": 7,
     "metadata": {},
     "output_type": "execute_result"
    }
   ],
   "source": [
    "def get_symptom_groups(driver):\n",
    "    return driver.find_elements_by_css_selector(\"#List1 option\")\n",
    "get_symptom_groups(driver)"
   ]
  },
  {
   "cell_type": "markdown",
   "metadata": {},
   "source": [
    "### Getting symptoms"
   ]
  },
  {
   "cell_type": "code",
   "execution_count": 8,
   "metadata": {},
   "outputs": [
    {
     "data": {
      "text/plain": [
       "[<selenium.webdriver.remote.webelement.WebElement (session=\"f61617897094c03fba5370da7ef24ab2\", element=\"0.6674204163755637-25\")>,\n",
       " <selenium.webdriver.remote.webelement.WebElement (session=\"f61617897094c03fba5370da7ef24ab2\", element=\"0.6674204163755637-26\")>,\n",
       " <selenium.webdriver.remote.webelement.WebElement (session=\"f61617897094c03fba5370da7ef24ab2\", element=\"0.6674204163755637-27\")>,\n",
       " <selenium.webdriver.remote.webelement.WebElement (session=\"f61617897094c03fba5370da7ef24ab2\", element=\"0.6674204163755637-28\")>,\n",
       " <selenium.webdriver.remote.webelement.WebElement (session=\"f61617897094c03fba5370da7ef24ab2\", element=\"0.6674204163755637-29\")>,\n",
       " <selenium.webdriver.remote.webelement.WebElement (session=\"f61617897094c03fba5370da7ef24ab2\", element=\"0.6674204163755637-30\")>,\n",
       " <selenium.webdriver.remote.webelement.WebElement (session=\"f61617897094c03fba5370da7ef24ab2\", element=\"0.6674204163755637-31\")>,\n",
       " <selenium.webdriver.remote.webelement.WebElement (session=\"f61617897094c03fba5370da7ef24ab2\", element=\"0.6674204163755637-32\")>,\n",
       " <selenium.webdriver.remote.webelement.WebElement (session=\"f61617897094c03fba5370da7ef24ab2\", element=\"0.6674204163755637-33\")>,\n",
       " <selenium.webdriver.remote.webelement.WebElement (session=\"f61617897094c03fba5370da7ef24ab2\", element=\"0.6674204163755637-34\")>,\n",
       " <selenium.webdriver.remote.webelement.WebElement (session=\"f61617897094c03fba5370da7ef24ab2\", element=\"0.6674204163755637-35\")>,\n",
       " <selenium.webdriver.remote.webelement.WebElement (session=\"f61617897094c03fba5370da7ef24ab2\", element=\"0.6674204163755637-36\")>,\n",
       " <selenium.webdriver.remote.webelement.WebElement (session=\"f61617897094c03fba5370da7ef24ab2\", element=\"0.6674204163755637-37\")>,\n",
       " <selenium.webdriver.remote.webelement.WebElement (session=\"f61617897094c03fba5370da7ef24ab2\", element=\"0.6674204163755637-38\")>,\n",
       " <selenium.webdriver.remote.webelement.WebElement (session=\"f61617897094c03fba5370da7ef24ab2\", element=\"0.6674204163755637-39\")>,\n",
       " <selenium.webdriver.remote.webelement.WebElement (session=\"f61617897094c03fba5370da7ef24ab2\", element=\"0.6674204163755637-40\")>,\n",
       " <selenium.webdriver.remote.webelement.WebElement (session=\"f61617897094c03fba5370da7ef24ab2\", element=\"0.6674204163755637-41\")>,\n",
       " <selenium.webdriver.remote.webelement.WebElement (session=\"f61617897094c03fba5370da7ef24ab2\", element=\"0.6674204163755637-42\")>,\n",
       " <selenium.webdriver.remote.webelement.WebElement (session=\"f61617897094c03fba5370da7ef24ab2\", element=\"0.6674204163755637-43\")>,\n",
       " <selenium.webdriver.remote.webelement.WebElement (session=\"f61617897094c03fba5370da7ef24ab2\", element=\"0.6674204163755637-44\")>,\n",
       " <selenium.webdriver.remote.webelement.WebElement (session=\"f61617897094c03fba5370da7ef24ab2\", element=\"0.6674204163755637-45\")>,\n",
       " <selenium.webdriver.remote.webelement.WebElement (session=\"f61617897094c03fba5370da7ef24ab2\", element=\"0.6674204163755637-46\")>,\n",
       " <selenium.webdriver.remote.webelement.WebElement (session=\"f61617897094c03fba5370da7ef24ab2\", element=\"0.6674204163755637-47\")>,\n",
       " <selenium.webdriver.remote.webelement.WebElement (session=\"f61617897094c03fba5370da7ef24ab2\", element=\"0.6674204163755637-48\")>,\n",
       " <selenium.webdriver.remote.webelement.WebElement (session=\"f61617897094c03fba5370da7ef24ab2\", element=\"0.6674204163755637-49\")>,\n",
       " <selenium.webdriver.remote.webelement.WebElement (session=\"f61617897094c03fba5370da7ef24ab2\", element=\"0.6674204163755637-50\")>,\n",
       " <selenium.webdriver.remote.webelement.WebElement (session=\"f61617897094c03fba5370da7ef24ab2\", element=\"0.6674204163755637-51\")>]"
      ]
     },
     "execution_count": 8,
     "metadata": {},
     "output_type": "execute_result"
    }
   ],
   "source": [
    "def get_symptoms(driver):\n",
    "    return driver.find_elements_by_css_selector(\"#List2 option\")\n",
    "get_symptoms(driver)"
   ]
  },
  {
   "cell_type": "markdown",
   "metadata": {},
   "source": [
    "### Getting selected symptoms"
   ]
  },
  {
   "cell_type": "code",
   "execution_count": 9,
   "metadata": {},
   "outputs": [
    {
     "data": {
      "text/plain": [
       "[]"
      ]
     },
     "execution_count": 9,
     "metadata": {},
     "output_type": "execute_result"
    }
   ],
   "source": [
    "def get_selected_symptoms(driver):\n",
    "    return driver.find_elements_by_css_selector(\"select[name='SelSymp[]'] option\")\n",
    "get_selected_symptoms(driver)"
   ]
  },
  {
   "cell_type": "markdown",
   "metadata": {},
   "source": [
    "### Getting diagnosis"
   ]
  },
  {
   "cell_type": "code",
   "execution_count": 10,
   "metadata": {},
   "outputs": [],
   "source": [
    "def get_diagnosis(driver):\n",
    "    return driver.find_elements_by_css_selector(\"#List11 option\")"
   ]
  },
  {
   "cell_type": "markdown",
   "metadata": {},
   "source": [
    "### Getting buttons "
   ]
  },
  {
   "cell_type": "code",
   "execution_count": 11,
   "metadata": {},
   "outputs": [],
   "source": [
    "def get_buttons(driver):\n",
    "    return {\n",
    "        \"add\": driver.find_element_by_css_selector(\"button[onclick='addfunc()']\"),\n",
    "        \"analyze\": driver.find_element_by_css_selector(\"input[type='submit']\")\n",
    "    }"
   ]
  },
  {
   "cell_type": "code",
   "execution_count": 12,
   "metadata": {},
   "outputs": [],
   "source": [
    "def get_remove_button(driver):\n",
    "    return driver.find_element_by_css_selector(\"button[onclick='delfunc()']\")"
   ]
  },
  {
   "cell_type": "markdown",
   "metadata": {},
   "source": [
    "### Getting description links"
   ]
  },
  {
   "cell_type": "code",
   "execution_count": 35,
   "metadata": {},
   "outputs": [],
   "source": [
    "def parse_page(url):\n",
    "    response = request.get(url)\n",
    "    page = response.content.decode(\"windows-1251\", \"ignore\")\n",
    "    return BeautifulSoup(page, \"html.parser\")"
   ]
  },
  {
   "cell_type": "code",
   "execution_count": 36,
   "metadata": {},
   "outputs": [],
   "source": [
    "def get_description_links(request):\n",
    "    bs = parse_page(\"http://www.diagnos-online.ru/zabolevaniya.html\")\n",
    "    return bs.select(\"div.submen a\")"
   ]
  },
  {
   "cell_type": "code",
   "execution_count": 14,
   "metadata": {},
   "outputs": [
    {
     "data": {
      "text/plain": [
       "<rx.core.anonymousobservable.AnonymousObservable at 0x24198c30048>"
      ]
     },
     "execution_count": 14,
     "metadata": {},
     "output_type": "execute_result"
    }
   ],
   "source": [
    "descriptions = Observable.from_(get_description_links(requests)) \\\n",
    "    .skip(9) \\\n",
    "    .to_dict(lambda e: e.string, lambda e: \"http://www.diagnos-online.ru/\" + e[\"href\"])\n",
    "descriptions"
   ]
  },
  {
   "cell_type": "markdown",
   "metadata": {},
   "source": [
    "## Performing scraping actions"
   ]
  },
  {
   "cell_type": "markdown",
   "metadata": {},
   "source": [
    "### Performing user actions to get desease data"
   ]
  },
  {
   "cell_type": "code",
   "execution_count": 15,
   "metadata": {},
   "outputs": [],
   "source": [
    "def clear_symptoms(symptoms, button):\n",
    "    \"\"\" Removes all selected symptoms \"\"\"\n",
    "    for symptom in symptoms:\n",
    "        symptom.click()\n",
    "        button.click()"
   ]
  },
  {
   "cell_type": "code",
   "execution_count": 16,
   "metadata": {},
   "outputs": [],
   "source": [
    "def scrape_diagnosis(driver):\n",
    "    symptom_groups = get_symptom_groups(driver)\n",
    "    symptom_group_pointer = 0\n",
    "    symptoms_pointer = 0\n",
    "    while symptom_group_pointer < len(symptom_groups):\n",
    "        buttons = get_buttons(driver)\n",
    "        symptom_groups[symptom_group_pointer].click()\n",
    "        symptoms = get_symptoms(driver)\n",
    "        symptoms[symptoms_pointer].click()\n",
    "        buttons[\"add\"].click()\n",
    "        buttons[\"analyze\"].click()\n",
    "        symptom_groups = get_symptom_groups(driver)\n",
    "        symptom_groups[symptom_group_pointer].click()\n",
    "        symptoms = get_symptoms(driver)\n",
    "        yield {\n",
    "            \"diagnosis\": get_diagnosis(driver),\n",
    "            \"symptom_group\": symptom_groups[symptom_group_pointer],\n",
    "            \"symptom\": symptoms[symptoms_pointer]\n",
    "        }\n",
    "        clear_symptoms(get_selected_symptoms(driver), get_remove_button(driver))\n",
    "        symptoms_pointer += 1\n",
    "        if symptoms_pointer >= len(symptoms):\n",
    "            symptom_group_pointer += 1\n",
    "            symptoms_pointer = 0"
   ]
  },
  {
   "cell_type": "markdown",
   "metadata": {},
   "source": [
    "## Managing scraped data"
   ]
  },
  {
   "cell_type": "markdown",
   "metadata": {},
   "source": [
    "### Selecting contents of ui elements"
   ]
  },
  {
   "cell_type": "code",
   "execution_count": 17,
   "metadata": {},
   "outputs": [
    {
     "data": {
      "text/plain": [
       "<rx.core.anonymousobservable.AnonymousObservable at 0x2419bf33828>"
      ]
     },
     "execution_count": 17,
     "metadata": {},
     "output_type": "execute_result"
    }
   ],
   "source": [
    "data = Observable.from_(scrape_diagnosis(driver)) \\\n",
    "    .take(3) \\\n",
    "    .map(lambda e: {\n",
    "        \"diagnosis\": [(d.text.split(\"    \")[1], float(d.text.split(\"    \")[0][:-1])) for d in e[\"diagnosis\"]],\n",
    "        \"symptom_group\": e[\"symptom_group\"].text.strip(),\n",
    "        \"symptom\": e[\"symptom\"].text.strip()\n",
    "    })\n",
    "data"
   ]
  },
  {
   "cell_type": "markdown",
   "metadata": {},
   "source": [
    "### Diagnoses in app have substrings of how diagnosis named in desease list"
   ]
  },
  {
   "cell_type": "code",
   "execution_count": 18,
   "metadata": {},
   "outputs": [],
   "source": [
    "def match_link(links, name):\n",
    "    keys = links.keys()\n",
    "    for k in keys:\n",
    "        if k.lower() in name.lower():\n",
    "            return links[k]\n",
    "    return \"\""
   ]
  },
  {
   "cell_type": "markdown",
   "metadata": {},
   "source": [
    "### Waiting for description links"
   ]
  },
  {
   "cell_type": "code",
   "execution_count": 19,
   "metadata": {},
   "outputs": [],
   "source": [
    "data = Observable.concat(descriptions, data).skip(1)"
   ]
  },
  {
   "cell_type": "markdown",
   "metadata": {},
   "source": [
    "### Matches diseases and links to their pages"
   ]
  },
  {
   "cell_type": "code",
   "execution_count": 20,
   "metadata": {},
   "outputs": [],
   "source": [
    "diagnoses = Observable.combine_latest(data, descriptions, lambda d, l: {\n",
    "    \"diagnosis\": [(i[0], i[1], match_link(l, i[0])) for i in d[\"diagnosis\"]],\n",
    "    \"symptom_group\": d[\"symptom_group\"],\n",
    "    \"symptom\": d[\"symptom\"]\n",
    "})"
   ]
  },
  {
   "cell_type": "markdown",
   "metadata": {},
   "source": [
    "### Retrieving information about diagnosis"
   ]
  },
  {
   "cell_type": "markdown",
   "metadata": {},
   "source": [
    "## Prepearing database"
   ]
  },
  {
   "cell_type": "markdown",
   "metadata": {},
   "source": [
    "### Reading scema file"
   ]
  },
  {
   "cell_type": "code",
   "execution_count": 6,
   "metadata": {},
   "outputs": [
    {
     "data": {
      "text/plain": [
       "'CREATE TABLE symptom_group (\\n    name TEXT PRIMARY KEY\\n)\\n\\nCREATE TABLE symptom (\\n    name TEXT PRIMARY KEY,\\n    group_name TEXT NOT NULL,\\n    FOREIGN KEY (group_name) REFERENCES symptom_group (name)\\n)\\n\\nCREATE TABLE diagnosis (\\n    name TEXT PRIMARY KEY,\\n    description TEXT\\n)\\n\\nCREATE TABLE symptom_diagnosis (\\n    symptom_name TEXT,\\n    diagnosis_name TEXT,\\n    probability REAL NOT NULL,\\n    PRIMARY KEY (symptom_name, diagnosis_name),\\n    FOREIGN KEY (symptom_name) REFERENCES symptom (name) ON DELETE CASCADE ON UPDATE NO ACTION,\\n    FOREIGN KEY (diagnosis_name) REFERENCES diagnosis (name) ON DELETE CASCADE ON UPDATE NO ACTION\\n)'"
      ]
     },
     "execution_count": 6,
     "metadata": {},
     "output_type": "execute_result"
    }
   ],
   "source": [
    "scema = \"\"\n",
    "with open(\"./sqlite/create.sql\", \"r\") as file:\n",
    "    scema = file.read()\n",
    "scema"
   ]
  },
  {
   "cell_type": "markdown",
   "metadata": {},
   "source": [
    "### Prepearing database"
   ]
  },
  {
   "cell_type": "code",
   "execution_count": 47,
   "metadata": {},
   "outputs": [
    {
     "data": {
      "text/plain": [
       "<sqlite3.Connection at 0x20674a2b9d0>"
      ]
     },
     "execution_count": 47,
     "metadata": {},
     "output_type": "execute_result"
    }
   ],
   "source": [
    "connection = sqlite3.connect(\"./sqlite/diagnoses.db\")\n",
    "connection"
   ]
  },
  {
   "cell_type": "code",
   "execution_count": 48,
   "metadata": {},
   "outputs": [
    {
     "data": {
      "text/plain": [
       "<sqlite3.Cursor at 0x20674af30a0>"
      ]
     },
     "execution_count": 48,
     "metadata": {},
     "output_type": "execute_result"
    }
   ],
   "source": [
    "cursor = connection.cursor()\n",
    "cursor"
   ]
  },
  {
   "cell_type": "code",
   "execution_count": 49,
   "metadata": {},
   "outputs": [
    {
     "ename": "OperationalError",
     "evalue": "no such table: symptom_group",
     "output_type": "error",
     "traceback": [
      "\u001b[1;31m---------------------------------------------------------------------------\u001b[0m",
      "\u001b[1;31mOperationalError\u001b[0m                          Traceback (most recent call last)",
      "\u001b[1;32m<ipython-input-49-32b71b58981e>\u001b[0m in \u001b[0;36m<module>\u001b[1;34m()\u001b[0m\n\u001b[1;32m----> 1\u001b[1;33m \u001b[0mcursor\u001b[0m\u001b[1;33m.\u001b[0m\u001b[0mexecute\u001b[0m\u001b[1;33m(\u001b[0m\u001b[1;34m\"\"\"DROP TABLE symptom_group\"\"\"\u001b[0m\u001b[1;33m)\u001b[0m\u001b[1;33m\u001b[0m\u001b[0m\n\u001b[0m\u001b[0;32m      2\u001b[0m \u001b[0mcursor\u001b[0m\u001b[1;33m.\u001b[0m\u001b[0mexecute\u001b[0m\u001b[1;33m(\u001b[0m\u001b[1;34m\"\"\"DROP TABLE symptom\"\"\"\u001b[0m\u001b[1;33m)\u001b[0m\u001b[1;33m\u001b[0m\u001b[0m\n\u001b[0;32m      3\u001b[0m \u001b[0mcursor\u001b[0m\u001b[1;33m.\u001b[0m\u001b[0mexecute\u001b[0m\u001b[1;33m(\u001b[0m\u001b[1;34m\"\"\"DROP TABLE diagnosis\"\"\"\u001b[0m\u001b[1;33m)\u001b[0m\u001b[1;33m\u001b[0m\u001b[0m\n\u001b[0;32m      4\u001b[0m \u001b[0mcursor\u001b[0m\u001b[1;33m.\u001b[0m\u001b[0mexecute\u001b[0m\u001b[1;33m(\u001b[0m\u001b[1;34m\"\"\"DROP TABLE symptom_diagnosis\"\"\"\u001b[0m\u001b[1;33m)\u001b[0m\u001b[1;33m\u001b[0m\u001b[0m\n",
      "\u001b[1;31mOperationalError\u001b[0m: no such table: symptom_group"
     ]
    }
   ],
   "source": [
    "cursor.execute(\"\"\"DROP TABLE symptom_group\"\"\")\n",
    "cursor.execute(\"\"\"DROP TABLE symptom\"\"\")\n",
    "cursor.execute(\"\"\"DROP TABLE diagnosis\"\"\")\n",
    "cursor.execute(\"\"\"DROP TABLE symptom_diagnosis\"\"\")"
   ]
  },
  {
   "cell_type": "code",
   "execution_count": 7,
   "metadata": {},
   "outputs": [],
   "source": [
    "for c in scema.split(\"\\n\\n\"):\n",
    "    cursor.execute(c)"
   ]
  },
  {
   "cell_type": "markdown",
   "metadata": {},
   "source": [
    "## Writing data into database"
   ]
  },
  {
   "cell_type": "code",
   "execution_count": 8,
   "metadata": {},
   "outputs": [],
   "source": [
    "def database_writer(cursor, data):\n",
    "    check_template = \"\"\"SELECT EXISTS(SELECT * FROM {0} WHERE name=?)\"\"\"\n",
    "    insert_template = \"\"\"INSERT INTO {0} {1} VALUES {2}\"\"\"\n",
    "    group_check = cursor.execute(check_template.format(\"symptom_group\"), (data[\"symptom_group\"],)).fetchall()\n",
    "    symptom_check = cursor.execute(check_template.format(\"symptom\"), (data[\"symptom\"],)).fetchall()\n",
    "    if not group_check[0][0]:\n",
    "        cursor.execute(insert_template.format(\"symptom_group\", \"(name)\", \"(?)\"), (data[\"symptom_group\"],))\n",
    "    if not symptom_check[0][0]:\n",
    "        cursor.execute(insert_template.format(\"symptom\", \"(name, group_name)\", \"(?, ?)\"), (data[\"symptom\"], data[\"symptom_group\"]))\n",
    "    for diagnosis in data[\"diagnosis\"]:\n",
    "        diag_check = cursor.execute(check_template.format(\"diagnosis\"), (diagnosis[0],)).fetchall()\n",
    "        if not diag_check[0][0]:\n",
    "            cursor.execute(insert_template.format(\"diagnosis\", \"(name, description)\", \"(?, ?)\"), (diagnosis[0], diagnosis[2]))\n",
    "        cursor.execute(insert_template.format(\"symptom_diagnosis\", \"(symptom_name, diagnosis_name, probability)\", \"(?, ?, ?)\"),\n",
    "                      (data[\"symptom\"], diagnosis[0], diagnosis[1]))"
   ]
  },
  {
   "cell_type": "code",
   "execution_count": 22,
   "metadata": {},
   "outputs": [],
   "source": [
    "def scrape_complete(connection, driver):\n",
    "    connection.commit()\n",
    "    connection.close()\n",
    "    driver.close()"
   ]
  },
  {
   "cell_type": "code",
   "execution_count": 10,
   "metadata": {},
   "outputs": [
    {
     "data": {
      "text/plain": [
       "<rx.disposables.anonymousdisposable.AnonymousDisposable at 0x206771bc1d0>"
      ]
     },
     "execution_count": 10,
     "metadata": {},
     "output_type": "execute_result"
    }
   ],
   "source": [
    "diagnoses.subscribe(on_next=partial(database_writer, cursor),\n",
    "                   on_complete=partial(scrape_complete, connection, driver))"
   ]
  },
  {
   "cell_type": "markdown",
   "metadata": {},
   "source": [
    "## Writing description contents instead of links"
   ]
  },
  {
   "cell_type": "code",
   "execution_count": 37,
   "metadata": {},
   "outputs": [],
   "source": [
    "def request_description(data):\n",
    "    regex = compile(\"\\w+\")\n",
    "    if data[1]:\n",
    "        soup = parse_page(data[1])\n",
    "        data = (data[0], reduce(lambda a, v: a + str(v), soup.find_all([\"p\", \"h2\"], string=regex), \"\"))\n",
    "    return data"
   ]
  },
  {
   "cell_type": "code",
   "execution_count": 30,
   "metadata": {},
   "outputs": [],
   "source": [
    "def fetch_diagnoses(cursor):\n",
    "    cursor.execute(\"\"\"SELECT * FROM diagnosis\"\"\")\n",
    "    return cursor.fetchall()"
   ]
  },
  {
   "cell_type": "code",
   "execution_count": 54,
   "metadata": {},
   "outputs": [
    {
     "data": {
      "text/plain": [
       "<rx.concurrency.threadpoolscheduler.ThreadPoolScheduler at 0x2419c33ce10>"
      ]
     },
     "execution_count": 54,
     "metadata": {},
     "output_type": "execute_result"
    }
   ],
   "source": [
    "scheduler = ThreadPoolScheduler(optimal_thread_count)\n",
    "scheduler"
   ]
  },
  {
   "cell_type": "code",
   "execution_count": 57,
   "metadata": {},
   "outputs": [
    {
     "data": {
      "text/plain": [
       "<rx.core.anonymousobservable.AnonymousObservable at 0x2419c0fb048>"
      ]
     },
     "execution_count": 57,
     "metadata": {},
     "output_type": "execute_result"
    }
   ],
   "source": [
    "diagnosis_info = Observable.from_(fetch_diagnoses(cursor)) \\\n",
    "    .select_many(lambda i: Observable.start(lambda: request_description(i), scheduler=scheduler)) \\\n",
    "    .observe_on(Scheduler.event_loop)\n",
    "diagnosis_info\n",
    "# scheduler.executor.shutdown()"
   ]
  },
  {
   "cell_type": "code",
   "execution_count": 32,
   "metadata": {},
   "outputs": [],
   "source": [
    "def update_description(cursor, row):\n",
    "    cursor.execute(\"\"\"UPDATE diagnosis SET description=? WHERE name=?\"\"\", (row[1], row[0]))"
   ]
  },
  {
   "cell_type": "code",
   "execution_count": 33,
   "metadata": {},
   "outputs": [],
   "source": [
    "def update_complete(connection):\n",
    "    connection.commit()\n",
    "    connection.close()"
   ]
  },
  {
   "cell_type": "code",
   "execution_count": null,
   "metadata": {},
   "outputs": [],
   "source": [
    "diagnosis_info.subscribe(on_next=partial(update_description, cursor),\n",
    "                        on_complete=partial(update_complete, connection))"
   ]
  }
 ],
 "metadata": {
  "kernelspec": {
   "display_name": "Python 3",
   "language": "python",
   "name": "python3"
  },
  "language_info": {
   "codemirror_mode": {
    "name": "ipython",
    "version": 3
   },
   "file_extension": ".py",
   "mimetype": "text/x-python",
   "name": "python",
   "nbconvert_exporter": "python",
   "pygments_lexer": "ipython3",
   "version": "3.6.4"
  }
 },
 "nbformat": 4,
 "nbformat_minor": 2
}
